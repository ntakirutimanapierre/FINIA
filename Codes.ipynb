{
  "nbformat": 4,
  "nbformat_minor": 0,
  "metadata": {
    "colab": {
      "provenance": []
    },
    "kernelspec": {
      "name": "python3",
      "display_name": "Python 3"
    },
    "language_info": {
      "name": "python"
    }
  },
  "cells": [
    {
      "cell_type": "markdown",
      "source": [
        "## **1. Introduction**\n",
        "***1.1. Getting all AFrican Countries**"
      ],
      "metadata": {
        "id": "0vA64OKKGSeh"
      }
    },
    {
      "cell_type": "code",
      "source": [
        "!pip install wbdata --quiet\n",
        "\n",
        "# All the countries is Africa\n",
        "\n",
        "world_bank_country_ids = {\n",
        "    'DZA': 'Algeria',\n",
        "    'AGO': 'Angola',\n",
        "    'BEN': 'Benin',\n",
        "    'BWA': 'Botswana',\n",
        "    'BFA': 'Burkina Faso',\n",
        "    'BDI': 'Burundi',\n",
        "    'CPV': 'Cabo Verde',\n",
        "    'CMR': 'Cameroon',\n",
        "    'CAF': 'Central African Republic',\n",
        "    'TCD': 'Chad',\n",
        "    'COM': 'Comoros',\n",
        "    'COG': 'Congo, Rep.',\n",
        "    'COD': 'Congo, Dem. Rep.',\n",
        "    'DJI': 'Djibouti',\n",
        "    'EGY': ' Egypt',\n",
        "    'GNQ': 'Equatorial Guinea',\n",
        "    'ERI': 'Eritrea',\n",
        "    'SWZ': 'Eswatini (Swaziland)',\n",
        "    'ETH': 'Ethiopia',\n",
        "    'GAB': 'Gabon',\n",
        "    'GMB': 'Gambia, The',\n",
        "    'GHA': 'Ghana',\n",
        "    'GIN': 'Guinea',\n",
        "    'GNB': 'Guinea-Bissau',\n",
        "    'CIV': \"Cote d'Ivoire\",\n",
        "    'KEN': 'Kenya',\n",
        "    'LSO': 'Lesotho',\n",
        "    'LBR': 'Liberia',\n",
        "    'LBY': 'Libya',\n",
        "    'MDG': 'Madagascar',\n",
        "    'MWI': 'Malawi',\n",
        "    'MLI': 'Mali',\n",
        "    'MRT': 'Mauritania',\n",
        "    'MUS': 'Mauritius',\n",
        "    'MAR': 'Morocco',\n",
        "    'MOZ': 'Mozambique',\n",
        "    'NAM': 'Namibia',\n",
        "    'NER': 'Niger',\n",
        "    'NGA': 'Nigeria',\n",
        "    'RWA': 'Rwanda',\n",
        "    'STP': 'São Tomé and Príncipe',\n",
        "    'SEN': 'Senegal',\n",
        "    'SYC': 'Seychelles',\n",
        "    'SLE': 'Sierra Leone',\n",
        "    'SOM': 'Somalia',\n",
        "    'ZAF': 'South Africa',\n",
        "    'SSD': 'South Sudan',\n",
        "    'SDN': 'Sudan',\n",
        "    'TZA': 'Tanzania',\n",
        "    'TGO': 'Togo',\n",
        "    'TUN': 'Tunisia',\n",
        "    'UGA': 'Uganda',\n",
        "    'ZMB': 'Zambia',\n",
        "    'ZWE': 'Zimbabwe'\n",
        "}\n",
        "['Nigeria', 'South Africa', 'Ethiopia', 'Togo', 'Kenya', 'Tunisia',\n",
        "       'Senegal', 'Zambia', 'Ghana', 'Morocco', 'Tanzania', 'Egypt',\n",
        "       \"CÃ´te d'Ivoire\", 'Zimbabwe', 'Mauritius', 'Uganda', 'Algeria',\n",
        "       'Malawi', 'Botswana', 'Democratic Republic of', 'Rwanda',\n",
        "       'Seychelles', 'Cameroon', 'Mauritania', 'Mali', 'Burkina Faso',\n",
        "       'Sierra Leone', 'Gambia', 'Lesotho', 'Gabon', 'Namibia', 'Burundi',\n",
        "       'Angola', 'Chad', 'Madagascar', 'Djibouti', 'Congo', 'Liberia',\n",
        "       'Guinea', 'Somalia', 'Benin', 'Mozambique']\n",
        "\n",
        "\n",
        "world_bank_country_ids = {\n",
        "    'DZA': 'Algeria',\n",
        "    'AGO': 'Angola',\n",
        "    'BEN': 'Benin',\n",
        "    'BWA': 'Botswana',\n",
        "    'BFA': 'Burkina Faso',\n",
        "    'BDI': 'Burundi',\n",
        "    'CPV': 'Cabo Verde',  # Not in the list, kept as is\n",
        "    'CMR': 'Cameroon',\n",
        "    'CAF': 'Central African Republic',  # Not in the list, kept as is\n",
        "    'TCD': 'Chad',\n",
        "    'COM': 'Comoros',  # Not in the list, kept as is\n",
        "    'COG': 'Congo, Rep.',\n",
        "    'COD':  'Democratic Republic of',\n",
        "    'COD': 'Congo',\n",
        "    'DJI': 'Djibouti',\n",
        "    'EGY': 'Egypt',\n",
        "    'GNQ': 'Equatorial Guinea',  # Not in the list, kept as is\n",
        "    'ERI': 'Eritrea',  # Not in the list, kept as is\n",
        "    'SWZ': 'Eswatini (Swaziland)',  # Not in the list, kept as is\n",
        "    'ETH': 'Ethiopia',\n",
        "    'GAB': 'Gabon',\n",
        "    'GMB': 'Gambia, The',\n",
        "    'GHA': 'Ghana',\n",
        "    'GIN': 'Guinea',\n",
        "    'GNB': 'Guinea-Bissau',  # Not in the list, kept as is\n",
        "    'CIV': \"Cote d'Ivoire\",\n",
        "    'KEN': 'Kenya',\n",
        "    'LSO': 'Lesotho',\n",
        "    'LBR': 'Liberia',\n",
        "    'LBY': 'Libya',  # Not in the list, kept as is\n",
        "    'MDG': 'Madagascar',\n",
        "    'MWI': 'Malawi',\n",
        "    'MLI': 'Mali',\n",
        "    'MRT': 'Mauritania',\n",
        "    'MUS': 'Mauritius',\n",
        "    'MAR': 'Morocco',\n",
        "    'MOZ': 'Mozambique',\n",
        "    'NAM': 'Namibia',\n",
        "    'NER': 'Niger',  # Not in the list, kept as is\n",
        "    'NGA': 'Nigeria',\n",
        "    'RWA': 'Rwanda',\n",
        "    'STP': 'São Tomé and Príncipe',  # Not in the list, kept as is\n",
        "    'SEN': 'Senegal',\n",
        "    'SYC': 'Seychelles',\n",
        "    'SLE': 'Sierra Leone',\n",
        "    'SOM': 'Somalia',\n",
        "    'ZAF': 'South Africa',\n",
        "    'SSD': 'South Sudan',  # Not in the list, kept as is\n",
        "    'SDN': 'Sudan',  # Not in the list, kept as is\n",
        "    'TZA': 'Tanzania',\n",
        "    'TGO': 'Togo',\n",
        "    'TUN': 'Tunisia',\n",
        "    'UGA': 'Uganda',\n",
        "    'ZMB': 'Zambia',\n",
        "    'ZWE': 'Zimbabwe'\n",
        "}\n",
        "\n",
        "\n"
      ],
      "metadata": {
        "id": "yttP0CxbT5x2",
        "outputId": "4a0439c9-67dd-4827-ac87-e829b92fcc8f",
        "colab": {
          "base_uri": "https://localhost:8080/"
        }
      },
      "execution_count": null,
      "outputs": [
        {
          "output_type": "stream",
          "name": "stdout",
          "text": [
            "\u001b[?25l   \u001b[90m━━━━━━━━━━━━━━━━━━━━━━━━━━━━━━━━━━━━━━━━\u001b[0m \u001b[32m0.0/295.7 kB\u001b[0m \u001b[31m?\u001b[0m eta \u001b[36m-:--:--\u001b[0m\r\u001b[2K   \u001b[90m━━━━━━━━━━━━━━━━━━━━━━━━━━━━━━━━━━━━━━━━\u001b[0m \u001b[32m295.7/295.7 kB\u001b[0m \u001b[31m9.2 MB/s\u001b[0m eta \u001b[36m0:00:00\u001b[0m\n",
            "\u001b[?25h\u001b[31mERROR: pip's dependency resolver does not currently take into account all the packages that are installed. This behaviour is the source of the following dependency conflicts.\n",
            "ipython 7.34.0 requires jedi>=0.16, which is not installed.\n",
            "moviepy 1.0.3 requires decorator<5.0,>=4.0.2, but you have decorator 5.2.1 which is incompatible.\n",
            "bigframes 1.42.0 requires tabulate>=0.9, but you have tabulate 0.8.10 which is incompatible.\u001b[0m\u001b[31m\n",
            "\u001b[0m"
          ]
        }
      ]
    },
    {
      "cell_type": "markdown",
      "source": [
        "# **IMPORT PACHAGES AND AUTHENTICATE GOOGLE DRIVE**"
      ],
      "metadata": {
        "id": "JWd_5FUWnRJ8"
      }
    },
    {
      "cell_type": "code",
      "execution_count": null,
      "metadata": {
        "id": "Y7LC8c4yWRyZ"
      },
      "outputs": [],
      "source": [
        "import requests\n",
        "import json\n",
        "\n",
        "from google.colab import drive # this one is used to use google drive into colab\n",
        "from google.colab import auth  # Authenticate the drive to colab notebook.\n",
        "import gspread\n",
        "from google.auth import default\n",
        "import pandas as pd\n",
        "import numpy as np\n",
        "import matplotlib.pyplot as plt\n",
        "import seaborn as sns\n",
        "\n",
        "import warnings\n",
        "warnings.filterwarnings('ignore')\n",
        "\n",
        "\n",
        "drive.mount('/content/drive')\n",
        "auth.authenticate_user()\n",
        "\n",
        "creds, _ = default()\n",
        "gc = gspread.authorize(creds)\n",
        "\n",
        "import wbdata"
      ]
    },
    {
      "cell_type": "markdown",
      "source": [
        "## **Get the GSMA index data from their website and filter SSA**"
      ],
      "metadata": {
        "id": "C8eWncnGagNy"
      }
    },
    {
      "cell_type": "code",
      "source": [
        "gsma_index = pd.read_excel('https://www.mobileconnectivityindex.com/assets/excelData/MCI_Data_2024.xlsx', sheet_name='Index Scores',skiprows=2)\n",
        "sub_saharan_africa = gsma_index[gsma_index['ISO Code'].isin(world_bank_country_ids.keys()) ]\n",
        "\n",
        "sub_saharan_africa.columns"
      ],
      "metadata": {
        "id": "TeV3ukHpWweq"
      },
      "execution_count": null,
      "outputs": []
    },
    {
      "cell_type": "code",
      "source": [
        "\n"
      ],
      "metadata": {
        "id": "PqdnHLK6WAH0"
      },
      "execution_count": null,
      "outputs": []
    },
    {
      "cell_type": "code",
      "source": [
        "# sub_saharan_afric\n",
        "\n",
        "gsma_index = pd.pivot_table(sub_saharan_africa,\n",
        "                             values='Index',\n",
        "                             index='Year',\n",
        "                             columns='Country',\n",
        "                            #  aggfunc='mean',\n",
        "                          fill_value=np.nan)\n",
        "Literacy_rate = pd.pivot_table(sub_saharan_africa,\n",
        "                             values='Literacy',\n",
        "                             index='Year',\n",
        "                             columns='Country',\n",
        "                            #  aggfunc='mean',\n",
        "                          fill_value=np.nan)\n",
        "\n"
      ],
      "metadata": {
        "id": "NkcnlIWoe-kN"
      },
      "execution_count": null,
      "outputs": []
    },
    {
      "cell_type": "code",
      "source": [
        "\n",
        "print(Literacy_rate.columns)\n",
        "print(gsma_index.columns)\n",
        "\n",
        "Literacy_rate.columns == gsma_index.columns\n"
      ],
      "metadata": {
        "id": "5HSWJ2QXZDxQ"
      },
      "execution_count": null,
      "outputs": []
    },
    {
      "cell_type": "markdown",
      "source": [
        "# **VISUALIZE THE LITERACY RATE FOR FEW DIFFERENT YEARS**"
      ],
      "metadata": {
        "id": "wLN95piAnt17"
      }
    },
    {
      "cell_type": "code",
      "source": [
        "Literacy_rate[(Literacy_rate.index).isin([2019, 2023])].T.sort_values(by=[2023], ascending=False).plot(kind = 'bar', figsize=(15, 5),legend = False,)\n",
        "plt.legend(loc='best')\n",
        "plt.grid(True, linestyle = '--', alpha = 0.1)\n",
        "plt.ylabel('Literacy rate (%Population)')\n",
        "plt.title('Literacy rate  in 2022 and 2023')\n",
        "plt.show()"
      ],
      "metadata": {
        "id": "LvGgr57EGvCN"
      },
      "execution_count": null,
      "outputs": []
    },
    {
      "cell_type": "markdown",
      "source": [
        "# **VISUALIZE THE TIMESERIES OF GSMA INDEX SCORE FROM 2014 TO 2023**"
      ],
      "metadata": {
        "id": "kMKfilUtn8ZB"
      }
    },
    {
      "cell_type": "code",
      "source": [
        "bax = gsma_index.plot(figsize=(15, 10),legend = False)\n",
        "# plt.legend(loc='best')\n",
        "for country in gsma_index.columns:\n",
        "    bax.text(2023, gsma_index[country].dropna().iloc[-1] , country, va='center', ha='left',fontsize=6, color ='black',zorder=30)\n",
        "\n",
        "plt.grid(True, linestyle = '--', alpha = 0.1)\n",
        "plt.ylabel('GSMA Index')\n",
        "plt.title('GSMA Index over the years')\n",
        "plt.ylabel('GSMA Index')\n",
        "plt.show()\n",
        "\n"
      ],
      "metadata": {
        "id": "xEKuHL1MLcD0"
      },
      "execution_count": null,
      "outputs": []
    },
    {
      "cell_type": "code",
      "source": [
        "gsma_index.mean(axis=0).sort_values(ascending = True).plot(kind='barh', figsize = (10, 10), xlabel='Index', ylabel='Country', title = 'Mean GSMA Index Score per Country (2014-2023)')"
      ],
      "metadata": {
        "id": "pDlSRP9TBX_S"
      },
      "execution_count": null,
      "outputs": []
    },
    {
      "cell_type": "markdown",
      "source": [
        "## **Get the number of countries represented in the GSMA index**"
      ],
      "metadata": {
        "id": "0L-z5l2oZ8pA"
      }
    },
    {
      "cell_type": "code",
      "source": [
        "# Get the iso codes for all Sub-Saharan Africa countries which are available in GSMA indicator\n",
        "worl_countries = pd.DataFrame(wbdata.get_countries())[['id','name']]\n",
        "africa_countries = worl_countries[worl_countries['id'].isin(sub_saharan_africa['ISO Code'])]\n",
        "africa_countries.reset_index(drop=True,inplace=True)\n",
        "\n",
        "print(f\"The dataset has only {africa_countries.shape[0]} countries in Africa\")\n",
        "print(africa_countries['name'].unique())\n",
        "\n"
      ],
      "metadata": {
        "id": "kxyyOSiUVAR0"
      },
      "execution_count": null,
      "outputs": []
    },
    {
      "cell_type": "markdown",
      "source": [
        "# **Get Population Data To help In normalization**"
      ],
      "metadata": {
        "id": "3CaQvq8jMwsp"
      }
    },
    {
      "cell_type": "code",
      "source": [
        "african_population = wbdata.get_dataframe(indicators  = {'SP.POP.TOTL': 'Population', 'NY.GDP.MKTP.CD':'GDP (curent$)','SE.ADT.LITR.ZS':'Literacy rate'},\n",
        "                                          country = world_bank_country_ids.keys(), date = ('2009','2024'), keep_levels=True).reset_index()\n",
        "\n",
        "\n",
        "african_population_pvt =pd.pivot_table(african_population,\n",
        "                             values='Population',\n",
        "                             index='date',\n",
        "                             columns='country',\n",
        "                             aggfunc=sum,\n",
        "                             fill_value=np.nan)\n",
        "african_gdp_pvt =pd.pivot_table(african_population,\n",
        "                             values='GDP (curent$)',\n",
        "                             index='date',\n",
        "                             columns='country',\n",
        "                             aggfunc=sum,\n",
        "                             fill_value=np.nan)\n",
        "\n",
        "\n"
      ],
      "metadata": {
        "id": "qEqRhw86aygN"
      },
      "execution_count": null,
      "outputs": []
    },
    {
      "cell_type": "code",
      "source": [
        "# Literacy\n",
        "# african_gdp_pvt\n",
        "\n"
      ],
      "metadata": {
        "id": "FJXuJUggzTVQ"
      },
      "execution_count": null,
      "outputs": []
    },
    {
      "cell_type": "markdown",
      "source": [
        "# **1.O READ THE CRUNCHBASE DATA AND PREPROSES IT**."
      ],
      "metadata": {
        "id": "cwYFuJpj4HaJ"
      }
    },
    {
      "cell_type": "code",
      "source": [
        "\n",
        "# Open the Google Sheet by its ID\n",
        "sheet_id = '18k8I7iBHt6FdWzogrAPQ-cmAR5wN1oHkwNS7ou6WTrk'\n",
        "worksheet = gc.open_by_key(sheet_id).get_worksheet(0)\n",
        "\n",
        "# Get all values from the sheet\n",
        "rows = worksheet.get_all_values()\n",
        "# Create a dataframe\n",
        "df = pd.DataFrame(rows[1:], columns=rows[0])\n",
        "# df = df.iloc[:295, :-6]\n",
        "# Replace blank space with NaN\n",
        "df = df.replace('', 0)\n",
        "\n",
        "\n",
        "df['Announced Date'] = pd.to_datetime(df['Announced Date'])\n",
        "df['Money Raised (in USD)'] = df['Money Raised (in USD)'].astype(float)\n",
        "df['Number of Investors'] = df['Number of Investors'].astype(int)\n",
        "df['Money Raised'] = df['Money Raised'].astype(float)\n",
        "df['Number of Funding Rounds'] = df['Number of Funding Rounds'].astype(int)\n",
        "df['Total Funding Amount'] = df['Total Funding Amount'].astype(float)\n",
        "df['Total Funding Amount (in USD)'] = df['Total Funding Amount (in USD)'].astype(float)\n",
        "df['Year'] = df['Announced Date'].dt.year\n",
        "\n",
        "df['Country'] = df['Organization Location'].apply(lambda x: x.split(', ')[-2])\n",
        "\n",
        "# change the country name to the country codes\n",
        "# Get the first matching key\n",
        "\n",
        "# change  = lambda x: world_bank_country_ids.keys()[world_bank_country_ids.values().index(x)] if x in world_bank_country_ids.values() else x\n",
        "\n",
        "\n",
        "\n",
        "\n",
        "# df['Country'] = df['Country'].apply(change)"
      ],
      "metadata": {
        "id": "YNqYd7Y8Zm5P"
      },
      "execution_count": null,
      "outputs": []
    },
    {
      "cell_type": "markdown",
      "source": [],
      "metadata": {
        "id": "efeq43LjgNv6"
      }
    },
    {
      "cell_type": "code",
      "source": [
        "\n"
      ],
      "metadata": {
        "id": "Ny8-dJ5FkZGA"
      },
      "execution_count": null,
      "outputs": []
    },
    {
      "cell_type": "code",
      "source": [
        "df['Country'].unique()"
      ],
      "metadata": {
        "id": "10w7Ps1nTmfZ"
      },
      "execution_count": null,
      "outputs": []
    },
    {
      "cell_type": "code",
      "source": [
        "a = [Literacy_rate,\n",
        "gsma_index,\n",
        "african_gdp_pvt,\n",
        "df]\n",
        "\n",
        "\n",
        "\n"
      ],
      "metadata": {
        "id": "Dz4D2mSqZbDT"
      },
      "execution_count": null,
      "outputs": []
    },
    {
      "cell_type": "code",
      "source": [
        "df['Country'].unique()"
      ],
      "metadata": {
        "id": "qiRC9lPwWU45"
      },
      "execution_count": null,
      "outputs": []
    },
    {
      "cell_type": "markdown",
      "source": [
        "#### **Check the number of columns we have on clunchabase data**"
      ],
      "metadata": {
        "id": "qXdbidrd8Ooa"
      }
    },
    {
      "cell_type": "code",
      "source": [
        "print(f\"The dataset has {df.shape[1]} columns\")\n",
        "print(df.columns)"
      ],
      "metadata": {
        "id": "yTIFyPKhZm12"
      },
      "execution_count": null,
      "outputs": []
    },
    {
      "source": [
        "# df['Organization Location'][1].split(',')[-2]\n",
        "\n",
        "\n",
        "df['Country'].replace(\"Cabo Verde\",\"Cape Verde\",inplace=True)\n",
        "# df['Country'].replace(\"Congo (Brazzaville)\",\"Congo-Brazzaville\",inplace=True)\n",
        "\n",
        "\n",
        "\n",
        "unique_countries = df['Country'].unique()\n",
        "print(f'Only {len(unique_countries)} countries were represeted in the dataset \\n {unique_countries}')"
      ],
      "cell_type": "code",
      "metadata": {
        "id": "ZWx07tX36KOw"
      },
      "execution_count": null,
      "outputs": []
    },
    {
      "cell_type": "code",
      "source": [
        "for country  in  unique_countries:\n",
        "  if country not in african_population['country'].unique():\n",
        "    print(country)"
      ],
      "metadata": {
        "id": "LBIdwKBXYbdq"
      },
      "execution_count": null,
      "outputs": []
    },
    {
      "cell_type": "code",
      "source": [
        "pivot_table = pd.pivot_table(df,\n",
        "                             values='Money Raised (in USD)',\n",
        "                             index='Year',\n",
        "                             columns='Country',\n",
        "                             aggfunc='sum',\n",
        "                          fill_value=np.nan)\n",
        "\n",
        "print('This is how the data look like when it comes after pivoting')\n",
        "# display(pivot_table.T)"
      ],
      "metadata": {
        "id": "F6euil_TZmzZ"
      },
      "execution_count": null,
      "outputs": []
    },
    {
      "cell_type": "code",
      "source": [
        "# pivot_table\n",
        "def normalise(investment, normalizer):\n",
        "  normalised_invesyment = pd.DataFrame()\n",
        "  for country in investment.columns:\n",
        "    normalised_invesyment[country] = investment[country].values / normalizer[country].values\n",
        "  african_population_pvt\n",
        "\n",
        "  normalised_invesyment.index = investment.index\n",
        "  # normalised_invesyment\n",
        "\n",
        "  return normalised_invesyment\n",
        "\n",
        "\n"
      ],
      "metadata": {
        "id": "j6NFiJtMCyRx"
      },
      "execution_count": null,
      "outputs": []
    },
    {
      "cell_type": "markdown",
      "source": [
        "# MONEY RAISED"
      ],
      "metadata": {
        "id": "-s_ZDy0VZnnI"
      }
    },
    {
      "cell_type": "code",
      "source": [
        "ax = pivot_table.plot(figsize=(15, 10),legend = False)\n",
        "\n",
        "# for country in pivot_table.columns:\n",
        "#     ax.text(pivot_table[country].dropna().index[-1], pivot_table[country].dropna().iloc[-1] , country, va='center', ha='left',fontsize=10, color ='black',zorder=30)\n",
        "\n",
        "for country in pivot_table.columns:\n",
        "  last_year_in_data = pivot_table[country].dropna().index[-1]\n",
        "  last_amount = pivot_table[country].dropna().iloc[-1]\n",
        "\n",
        "  if last_year_in_data != 2024:\n",
        "    if len(pivot_table[country].dropna().index) == 1:\n",
        "      plt.scatter(last_year_in_data, last_amount,marker='o', s=17, c='red', zorder=30, label = 'Appears Once')\n",
        "\n",
        "    else:\n",
        "      plt.scatter(last_year_in_data, last_amount,marker='o', s=17, c='green', zorder=30)\n",
        "\n",
        "  ax.text(last_year_in_data,  last_amount, country, va='center', ha='left',fontsize=9, color ='black',zorder=30, label = 'Appears many times before 2024')\n",
        "\n",
        "\n",
        "# plt.ylim(0,500)\n",
        "ax.set_ylabel('Log(Money Raised (in USD))')\n",
        "ax.set_title('Log(Money Raised over the years(USD))')\n",
        "ax.set_yscale('log')\n",
        "plt.show()\n",
        "\n"
      ],
      "metadata": {
        "id": "v9-6dWuWZmwa"
      },
      "execution_count": null,
      "outputs": []
    },
    {
      "cell_type": "code",
      "source": [
        "# pivot_table.mean(axis=0).sort_values(ascending = False)"
      ],
      "metadata": {
        "id": "0MfXOWyNZzhT"
      },
      "execution_count": null,
      "outputs": []
    },
    {
      "source": [
        "# from google.colab import sheets\n",
        "# sheet = sheets.InteractiveSheet(df=pivot_table.reset_index())\n",
        "\n",
        "ax = pivot_table.mean(axis=0).sort_values(ascending = True).plot(kind='barh', figsize = (10, 7), xlabel='Investment(USD)', ylabel='Country', title = 'Mean Investment per Country (2014-2023)')\n",
        "ax.set_xscale('log')\n",
        "plt.show()\n"
      ],
      "cell_type": "code",
      "execution_count": null,
      "outputs": [],
      "metadata": {
        "cellView": "form",
        "id": "v32U9_KTCFp9"
      }
    },
    {
      "cell_type": "markdown",
      "source": [
        "# we don't have: Mali, Somalia,"
      ],
      "metadata": {
        "id": "sVNL2YdQllL-"
      }
    },
    {
      "cell_type": "markdown",
      "source": [
        "# **Normalize by the Total Population**"
      ],
      "metadata": {
        "id": "ei_ljTO2n0tF"
      }
    },
    {
      "cell_type": "code",
      "source": [
        "# normalised_invesyment\n",
        "normalised_invesyment = normalise(pivot_table,african_population_pvt)\n",
        "\n",
        "\n",
        "ax = normalised_invesyment.plot(figsize=(15, 5),legend = False)\n",
        "\n",
        "for country in normalised_invesyment.columns:\n",
        "    ax.text(normalised_invesyment[country].dropna().index[-1], normalised_invesyment[country].dropna().iloc[-1] , country, va='center', ha='left',fontsize=10, color ='black',zorder=30)\n",
        "\n",
        "\n",
        "# plt.ylim(0,500)\n",
        "ax.set_ylabel('Investment/Total Population')\n",
        "ax.set_title(' Investment per capita over the years')\n",
        "\n",
        "plt.show()"
      ],
      "metadata": {
        "id": "IXu8kE5VZmto"
      },
      "execution_count": null,
      "outputs": []
    },
    {
      "cell_type": "code",
      "source": [],
      "metadata": {
        "id": "H9aWBJKXWZNO"
      },
      "execution_count": null,
      "outputs": []
    },
    {
      "cell_type": "code",
      "source": [],
      "metadata": {
        "id": "ScEw7xufWiab"
      },
      "execution_count": null,
      "outputs": []
    },
    {
      "cell_type": "markdown",
      "source": [
        "# **Normalise by Total National GDP**"
      ],
      "metadata": {
        "id": "xAAIRqDantyu"
      }
    },
    {
      "cell_type": "code",
      "source": [
        "# normalised_invesyment\n",
        "normalised_invesyment_byGDP = normalise(pivot_table,african_gdp_pvt)*100\n",
        "\n",
        "\n",
        "\n",
        "ax = normalised_invesyment_byGDP.plot(figsize=(15, 10),legend = False, label = '')\n",
        "\n",
        "for country in normalised_invesyment_byGDP.columns:\n",
        "  last_year_in_data = normalised_invesyment[country].dropna().index[-1]\n",
        "  last_amount = normalised_invesyment_byGDP[country].dropna().iloc[-1]\n",
        "\n",
        "  if last_year_in_data != 2024:\n",
        "    if len(normalised_invesyment[country].dropna().index) == 1:\n",
        "      plt.scatter(last_year_in_data, last_amount,marker='o', s=17, c='red', zorder=30, label = 'Appears Once')\n",
        "\n",
        "    else:\n",
        "      plt.scatter(last_year_in_data, last_amount,marker='o', s=17, c='green', zorder=30)\n",
        "\n",
        "  ax.text(last_year_in_data,  last_amount, country, va='center', ha='left',fontsize=9, color ='black',zorder=30, label = 'Appears many times before 2024')\n",
        "\n",
        "\n",
        "\n",
        "# plt.ylim(0,500)\n",
        "# ax.set_yscale('log')\n",
        "ax.set_yscale('log')\n",
        "ax.set_ylabel('Log(Investment/Total National GDP)')\n",
        "ax.set_title(' Normalised Investment  over the years')\n",
        "# plt.legend()\n",
        "plt.show()\n",
        "\n"
      ],
      "metadata": {
        "id": "3YUrlbCsZmpV"
      },
      "execution_count": null,
      "outputs": []
    },
    {
      "cell_type": "code",
      "source": [
        "# normalised_invesyment_byGDP.min().sort_values()"
      ],
      "metadata": {
        "id": "tomSF_IVZmnE"
      },
      "execution_count": null,
      "outputs": []
    },
    {
      "cell_type": "code",
      "source": [
        "normlize = lambda x: (np.log(x) - np.log(10e-7)) / ((np.log(20)- np.log(10e-7)))\n",
        "minmax_normalize = lambda x: (x - 10e-6) / (20 - 10e-6)\n",
        "\n",
        "\n",
        "# Renormalise\n",
        "normalised_invesyment_byGD = normalised_invesyment_byGDP.apply(normlize)\n",
        "\n",
        "\n",
        "\n",
        "\n",
        "ax = normalised_invesyment_byGD.plot(figsize=(15, 10),legend = False, label = '')\n",
        "\n",
        "for country in normalised_invesyment_byGD.columns:\n",
        "  last_year_in_data = normalised_invesyment_byGD[country].dropna().index[-1]\n",
        "  last_amount = normalised_invesyment_byGD[country].dropna().iloc[-1]\n",
        "\n",
        "  if last_year_in_data != 2024:\n",
        "    if len(normalised_invesyment_byGD[country].dropna().index) == 1:\n",
        "      plt.scatter(last_year_in_data, last_amount,marker='o', s=17, c='red', zorder=30, label = 'Appears Once')\n",
        "\n",
        "    else:\n",
        "      plt.scatter(last_year_in_data, last_amount,marker='o', s=17, c='green', zorder=30)\n",
        "\n",
        "  ax.text(last_year_in_data,  last_amount, country, va='center', ha='left',fontsize=9, color ='black',zorder=30, label = 'Appears many times before 2024')\n",
        "\n",
        "\n",
        "\n",
        "# plt.ylim(0,500)\n",
        "# ax.set_yscale('log')\n",
        "# ax.set_yscale('log')\n",
        "ax.set_ylabel('Log(Investment/Total National GDP)')\n",
        "ax.set_title(' Re-Normalised Investment  over the years')\n",
        "# plt.legend()\n",
        "plt.show()"
      ],
      "metadata": {
        "id": "_BsCFu0aZmk7"
      },
      "execution_count": null,
      "outputs": []
    },
    {
      "cell_type": "code",
      "source": [],
      "metadata": {
        "id": "Gxrkf-JxYWhS"
      },
      "execution_count": null,
      "outputs": []
    },
    {
      "cell_type": "markdown",
      "source": [
        "# **Which Variables do we have so far?**"
      ],
      "metadata": {
        "id": "7_5YSploNF3r"
      }
    },
    {
      "cell_type": "code",
      "source": [
        "\n",
        "\n",
        "Investment =  normalised_invesyment_byGD.copy()         #normalised_invesyment_byGDP.interpolate(method='linear', axis=0,)\n",
        "# normalised_invesyment = normalised_invesyment[normalised_invesyment.index.isin(range(2014, 2024))]\n",
        "# gsma_index\n",
        "# Literacy_rate\n",
        "##\n",
        "\n",
        "# Investment\n"
      ],
      "metadata": {
        "id": "Ne_Is0iXZmij"
      },
      "execution_count": null,
      "outputs": []
    },
    {
      "cell_type": "code",
      "source": [
        "# normalised_invesyment_byGDP.info()"
      ],
      "metadata": {
        "id": "ZL9RKUe_LVEB"
      },
      "execution_count": null,
      "outputs": []
    },
    {
      "cell_type": "code",
      "source": [
        "class Index_calculation:\n",
        "        def __init__(self,Investment =Investment, gsma_index = gsma_index ,Literacy_rate = Literacy_rate):\n",
        "            self.Investment = Investment\n",
        "            self.gsma_index = gsma_index/100\n",
        "            self.Literacy_rate = Literacy_rate/100\n",
        "            # display(self.Investment, self.gsma_index, self.Literacy_rate)\n",
        "            # Get the current date and time\n",
        "            from datetime import datetime\n",
        "            current_datetime = datetime.now()\n",
        "\n",
        "            # Access the year attribute\n",
        "            self.current_year = current_datetime.year\n",
        "\n",
        "\n",
        "        def calculate(self, year, sliding_window =1, plot = False, arthmetic = False):\n",
        "          if sliding_window < 1:\n",
        "            raise ValueError(\"The sliding window should be greater than 1\")\n",
        "          else:\n",
        "            self.year = year\n",
        "            self.start_year = year - sliding_window +1\n",
        "\n",
        "            # make sure that the index start from 2014 and don't let it go beyond today\n",
        "            if self.year < 2014:\n",
        "              raise ValueError(\"The year should be greater than 2014\")\n",
        "            elif self.year > self.current_year:\n",
        "              raise ValueError(f\"The year should be less than {self.current_year} \")\n",
        "\n",
        "            else:\n",
        "              Investment = self.Investment[(self.Investment.index).isin(range(self.start_year, self.year+1))].mean(axis=0)\n",
        "              gsma_index = self.gsma_index[(self.gsma_index.index).isin(range(self.start_year, self.year+1))].mean(axis=0)\n",
        "              Literacy_rate = self.Literacy_rate[(self.Literacy_rate.index).isin(range(self.start_year, self.year+1))].mean(axis=0)\n",
        "\n",
        "              if arthmetic:\n",
        "                  index = (1/3)*Investment + (1/3)*gsma_index + (1/3)*Literacy_rate\n",
        "              else:\n",
        "                  index = (Investment*gsma_index *Literacy_rate)**(1/3)\n",
        "              # display(Literacy_rate, gsma_index, Investment)\n",
        "\n",
        "              index = np.round(index,2)\n",
        "              self.combined_dataframe = pd.concat([Investment, gsma_index, Literacy_rate, index], axis=1)\n",
        "              self.combined_dataframe.columns = ['Investment', 'gsma_index', 'Literacy_rate', f'Index Score: {self.year}']\n",
        "              # index\n",
        "\n",
        "\n",
        "              # index = index.reset_index()\n",
        "              # index.columns = ['Country', f'Index Score: {self.year}']\n",
        "\n",
        "              if plot:\n",
        "                sort = index.sort_values(ascending=True,)\n",
        "                ax = sort.dropna().plot(kind='barh', figsize = (15, 10), ylabel='Investment', xlabel='Country')\n",
        "                ax.set_title(f'FINTECH Index Score in {self.year} with sliding window ={sliding_window}')\n",
        "              index = index.reset_index()\n",
        "              index.columns = ['Country', self.year]\n",
        "              index = index.set_index('Country')\n",
        "              return index, self.combined_dataframe\n",
        "\n",
        "        def index_over_the_years(self,  begin = 2014, end = 2024, sliding_window =1, arthmetic = False):\n",
        "            self.begin = begin\n",
        "            self.end = end\n",
        "            self.end = end\n",
        "            years = list(range(self.begin, self.end+1))\n",
        "            self.years = years\n",
        "\n",
        "            Final_scores = pd.DataFrame()\n",
        "            break_down = pd.DataFrame()\n",
        "            for year in years:\n",
        "              index, _ = self.calculate(year = year, sliding_window = sliding_window, arthmetic = arthmetic)\n",
        "              Final_scores = pd.concat([Final_scores, index], axis=1)\n",
        "            Final_scores.columns = years\n",
        "            return Final_scores\n",
        "\n",
        "        # plot Final_scores\n",
        "        def plot(self, begin=2014, end = 2024,seliding_window = 1, bar = False, line = False):\n",
        "            scores = self.index_over_the_years(begin, end, seliding_window)\n",
        "            scores = scores.T.dropna(how = 'all', axis = 1)\n",
        "\n",
        "            def lineplot(score):\n",
        "              ax = scores.plot(kind = 'line', figsize=(15, 8),legend = False)\n",
        "              for country in scores.columns:\n",
        "                ax.text(end, scores[country].dropna().iloc[-1] , country, va='center', ha='left',fontsize=7,zorder=30)\n",
        "\n",
        "\n",
        "              plt.grid(True, linestyle = '--', alpha = 0.1)\n",
        "              plt.ylabel('FINTECH Index Score')\n",
        "              plt.title(f'FINTECH Index Score from {begin} to {end} with sliding window of: {seliding_window} ')\n",
        "              # plt.legend(False)\n",
        "              # plt.ylim(18,)\n",
        "              plt.show()\n",
        "\n",
        "            def barplot(score):\n",
        "              scores.plot(kind = 'barh', figsize=(15, 5), legend = False)\n",
        "              plt.show()\n",
        "\n",
        "            if bar:\n",
        "              barplot(scores)\n",
        "            if line:\n",
        "              lineplot(scores)\n",
        "\n",
        "            if not bar and not line:\n",
        "              raise ValueError(\"You did not select a plotter\")\n",
        "\n",
        "        def plot_break_down(self, year, sliding_window =1, plot = False, arthmetic = False, display_table = False):\n",
        "          _, break_down = self.calculate(year = year, sliding_window = sliding_window, plot = False, arthmetic = arthmetic)\n",
        "          break_down = break_down.sort_values(by=f'Index Score: {year}', ascending=False)\n",
        "\n",
        "          # Remove Index score column\n",
        "          # break_down_ = break_down.drop(columns=[f'Index Score: {year}'])\n",
        "\n",
        "          # display the figure\n",
        "          if display_table:\n",
        "            display(break_down)\n",
        "\n",
        "          new_breadown = pd.DataFrame()\n",
        "          for column in break_down.columns:\n",
        "            if column != f'Index Score: {year}':\n",
        "\n",
        "              others = break_down.drop(columns = [column,f'Index Score: {year}' ])\n",
        "              new_breadown[column] = (break_down[f'Index Score: {year}']**3)/others.prod(axis=1)\n",
        "\n",
        "\n",
        "\n",
        "          # plot stacked horizontal barhraph\n",
        "          new_breadown.dropna(inplace = True)\n",
        "\n",
        "          if plot:\n",
        "            ax = new_breadown.plot(kind = 'barh',stacked = True, figsize=(15, 10),legend = True)\n",
        "\n",
        "\n",
        "\n"
      ],
      "metadata": {
        "id": "dei43fqkZmgD"
      },
      "execution_count": null,
      "outputs": []
    },
    {
      "cell_type": "code",
      "source": [],
      "metadata": {
        "id": "fy4CrjAoMUJW"
      },
      "execution_count": null,
      "outputs": []
    },
    {
      "cell_type": "code",
      "source": [
        "# Index_calculation().plot(2014, 2024,1, False, True)\n",
        "Index_calculation().plot_break_down(year = 2023, sliding_window = 1, plot = False, arthmetic = False, display_table = True)"
      ],
      "metadata": {
        "id": "n9gg48jsZmdn"
      },
      "execution_count": null,
      "outputs": []
    },
    {
      "cell_type": "code",
      "source": [
        "Index_calculation().plot_break_down(year = 2023, sliding_window = 1, plot = True, arthmetic = False, display_table = False)"
      ],
      "metadata": {
        "id": "k7SrsQI9O3Kb"
      },
      "execution_count": null,
      "outputs": []
    },
    {
      "cell_type": "code",
      "source": [
        "Index_calculation().plot(2014, 2024 ,1 , False, True)"
      ],
      "metadata": {
        "id": "tZAsRVfxeWXl"
      },
      "execution_count": null,
      "outputs": []
    },
    {
      "cell_type": "code",
      "source": [
        "score_2024 = Index_calculation().calculate( 2023,1, True)\n",
        "\n",
        "# display(score_2024.sort_values(by = 2023, ascending = False))\n"
      ],
      "metadata": {
        "id": "xQY8A1Cy9_iT"
      },
      "execution_count": null,
      "outputs": []
    },
    {
      "cell_type": "markdown",
      "source": [],
      "metadata": {
        "id": "ULwcZ1XFsMvE"
      }
    },
    {
      "cell_type": "code",
      "source": [
        "score_2024 = Index_calculation().calculate( 2023,4, True)\n",
        "\n",
        "# display(score_2024)"
      ],
      "metadata": {
        "id": "si8xOHNPefrA"
      },
      "execution_count": null,
      "outputs": []
    },
    {
      "cell_type": "code",
      "source": [
        "score_2024 = Index_calculation().calculate( 2023,5, False)\n",
        "# score_2024\n",
        "# display(score_2024.sort_values(by = 2023, ascending = False))"
      ],
      "metadata": {
        "id": "ZCUCIKZ0tRed"
      },
      "execution_count": null,
      "outputs": []
    },
    {
      "cell_type": "code",
      "source": [
        "score_2024"
      ],
      "metadata": {
        "id": "AElWb_QTpS_l"
      },
      "execution_count": null,
      "outputs": []
    }
  ]
}